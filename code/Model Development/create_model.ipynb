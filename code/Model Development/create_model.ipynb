{
 "cells": [
  {
   "cell_type": "code",
   "execution_count": 14,
   "metadata": {
    "scrolled": true
   },
   "outputs": [
    {
     "name": "stdout",
     "output_type": "stream",
     "text": [
      "0.6666666666666666\n",
      "0.3333333333333333\n"
     ]
    }
   ],
   "source": [
    "import pandas as pd\n",
    "#Import data and select the required columns\n",
    "x_df = pd.read_csv(\"Session.csv\")\n",
    "y_df = pd.read_csv(\"Category.csv\")\n",
    "y = y_df[['type']]\n",
    "X = x_df[['more_counter','readmore_counter','video_counter','played_videos','links_counter']]\n",
    "from sklearn.naive_bayes import GaussianNB \n",
    "import numpy as np\n",
    "from sklearn.model_selection import train_test_split\n",
    "#Split data\n",
    "x_train, x_test,y_train,y_test = train_test_split(np.array(X),np.array(y),test_size=0.1,random_state=2)\n",
    "# y_train, y_test = train_test_split(np.array(y), test_size=0.1)\n",
    "#Fit the model\n",
    "gnb = GaussianNB()\n",
    "gnb.fit(x_train,y_train.ravel())\n",
    "#Pickle the model\n",
    "import pickle\n",
    "pickl = {'gnb':gnb}\n",
    "pickle.dump(pickl, open('models'+\".p\",\"wb\"))\n",
    "correct = 0\n",
    "wrong = 0\n",
    "#Set groups\n",
    "group1 = ['Explorer','Experience Seeker',' Professional/Hobbyist']\n",
    "group2 = ['Socializer Facilitator',' Parental Facilitator']\n",
    "group3 = ['Recharger']\n",
    "check_list = []\n",
    "#Count correct and wrong predictions\n",
    "for i in range(len(y_test)):\n",
    "    if y_test[i]  in group1:\n",
    "        check_list = group1\n",
    "    if y_test[i]  in group2:\n",
    "        check_list = group2\n",
    "    if y_test[i]  in group3:\n",
    "        check_list = group3\n",
    "    predict = gnb.predict(x_test[i].reshape(1,-1))    \n",
    "    if  predict in check_list:\n",
    "        correct +=1\n",
    "    else: \n",
    "        wrong +=1\n",
    "    check_list = []\n",
    "#Calculate accuracy and loss \n",
    "accuracy = correct/len(y_test)\n",
    "loss = wrong/len(y_test)\n",
    "#Print accuracy and loss\n",
    "print(accuracy)\n",
    "print(loss)\n"
   ]
  },
  {
   "cell_type": "code",
   "execution_count": null,
   "metadata": {},
   "outputs": [],
   "source": []
  },
  {
   "cell_type": "code",
   "execution_count": null,
   "metadata": {},
   "outputs": [],
   "source": []
  }
 ],
 "metadata": {
  "kernelspec": {
   "display_name": "Python 3",
   "language": "python",
   "name": "python3"
  },
  "language_info": {
   "codemirror_mode": {
    "name": "ipython",
    "version": 3
   },
   "file_extension": ".py",
   "mimetype": "text/x-python",
   "name": "python",
   "nbconvert_exporter": "python",
   "pygments_lexer": "ipython3",
   "version": "3.7.4"
  }
 },
 "nbformat": 4,
 "nbformat_minor": 2
}
